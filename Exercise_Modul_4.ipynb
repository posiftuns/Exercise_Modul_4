{
 "cells": [
  {
   "cell_type": "markdown",
   "metadata": {},
   "source": [
    "***\n",
    "<h1 align=\"center\">Exercise 4</h1>\n",
    " \n",
    "***"
   ]
  },
  {
   "cell_type": "markdown",
   "metadata": {},
   "source": [
    "Nama&nbsp;&nbsp;: ... <br>\n",
    "NIM&emsp;&nbsp;: ...<br>\n",
    "Kelas&nbsp;&nbsp;&nbsp;: ..."
   ]
  },
  {
   "cell_type": "markdown",
   "metadata": {},
   "source": [
    "## Mengerjakan Exercise\n",
    "Sebagian besar file pengerjaan *exercise* berbentuk **Jupyter Notebook** yang berformat **.ipynb**. Pengerjaan *exercise* dapat dilakukan dengan memperhatikan petunjuk dan catatan yang sudah diberikan. Dimohon untuk membaca dan memperhatikan setiap langkah dan materi pada *exercise* supaya materi pembelajaran dapat dipahami secara maksimal.\n",
    "\n",
    "Selamat mengerjakan!"
   ]
  },
  {
   "cell_type": "markdown",
   "metadata": {},
   "source": [
    "## **for** Loop\n"
   ]
  },
  {
   "cell_type": "markdown",
   "metadata": {},
   "source": [
    "Perintah yang digunakan untuk melakukan pengulangan dari sebuah nilai _sequence_ menggunakan _keyword_ `for` dengan format umum sebagai berikut.\n",
    "```python:\n",
    "for item in sequence:\n",
    "    statement 1\n",
    "    statement 2\n",
    "    ...\n",
    "```\n",
    "Dalam menulis blok kode `for`, kita perlu memerhatikan indent."
   ]
  },
  {
   "cell_type": "markdown",
   "metadata": {},
   "source": [
    "Mari membuat program yang dapat menampilkan item dari _sequence_ dengan tipe data `List` menggunakan _keyword_ `for` pada baris kode di bawah ini."
   ]
  },
  {
   "cell_type": "code",
   "execution_count": null,
   "metadata": {
    "notebookRunGroups": {
     "groupValue": ""
    },
    "tags": []
   },
   "outputs": [],
   "source": [
    "# Buat variabel\n",
    "list_warna = [\"...\", \"...\", \"...\", \"...\", \"...\"] #Lengkapi bagian kosong (...) dengan warna favorit.\n",
    "\n",
    "# for Loop\n",
    "for warna in list_warna:\n",
    "    print(warna)\n",
    "\n",
    "# Output diharapkan:\n",
    "# item 'warna' dari sequence 'list_warna'"
   ]
  },
  {
   "cell_type": "markdown",
   "metadata": {},
   "source": [
    "Pada baris kode di atas, `list_warna` merupakan _sequence_ yang \n",
    "berupa tipe data List, `warna` merupakan _item_, dan `print(warna)`\n",
    "merupakan _statement_. Kode tersebut meminta untuk menampilkan setiap _item_ (berupa warna) yang terdapat pada list `list_warna`. "
   ]
  },
  {
   "cell_type": "markdown",
   "metadata": {},
   "source": [
    "### enumerate()"
   ]
  },
  {
   "cell_type": "markdown",
   "metadata": {},
   "source": [
    "Lalu, bagaimana jika kita ingin mengetahui _index_ atau urutan iterasi ke-berapa dari setiap _item_? Mari membuat program menggunakan fungsi `enumerate()` dengan _keyword_`for` pada baris kode di bawah ini."
   ]
  },
  {
   "cell_type": "code",
   "execution_count": null,
   "metadata": {},
   "outputs": [],
   "source": [
    "# Buat variabel\n",
    "list_makanan = [\"...\", \"...\", \"...\", \"...\", \"...\"] #Lengkapi bagian kosong (...) dengan makanan favorit.\n",
    "\n",
    "# for Loop\n",
    "for i, makanan in enumerate(list_makanan):\n",
    "    print(i, makanan)\n",
    "\n",
    "# Output diharapkan:\n",
    "# Terdapat angka index pada setiap item 'makanan'"
   ]
  },
  {
   "cell_type": "markdown",
   "metadata": {},
   "source": [
    "### range()"
   ]
  },
  {
   "cell_type": "markdown",
   "metadata": {},
   "source": [
    "Iterasi dapat dilakukan sebanyak nilai _range_ yang ditetapkan menggunakan fungsi `range()` dengan format umum sebagai berikut.\n",
    "\n",
    "#Iterasi _item_ dengan _index_ `i=0` hingga `i<y`.\n",
    "```python:\n",
    "for item in range(y):\n",
    "    statement 1\n",
    "    statement 2\n",
    "    ...\n",
    "```\n",
    "#Iterasi _item_ dengan _index_ `i=x` hingga `i<y`.\n",
    "```python:\n",
    "for item in range(x,y):\n",
    "    statement 1\n",
    "    statement 2\n",
    "    ...\n",
    "```\n",
    "#Iterasi _item_ dengan _index_ `i=x` hingga `i<y` dan step inkremen `z`.\n",
    "```python:\n",
    "for item in range(x,y,z):\n",
    "    statement 1\n",
    "    statement 2\n",
    "    ...\n",
    "```"
   ]
  },
  {
   "cell_type": "markdown",
   "metadata": {},
   "source": [
    "Mari membuat program `for` loop dengan menggunakan _index_ `i=x` hingga `i<y` dan step inkremen `z` pada fungsi `range()` untuk menghasilkan output yang diharapkan pada baris kode di bawah ini."
   ]
  },
  {
   "cell_type": "code",
   "execution_count": null,
   "metadata": {},
   "outputs": [],
   "source": [
    "# for loop\n",
    "for angka in range(..., ..., ...): #Lengkapi bagian kosong (...) dengan nilai index yang tepat. Ingat! Index di mulai dari [0].\n",
    "  print(...) #Lengkapi bagian kosong (...) dengan perhitungan yang tepat.\n",
    "\n",
    "# Output yang diharapkan:\n",
    "# 12\n",
    "# 18\n",
    "# 24\n",
    "# 30\n",
    "# 36"
   ]
  },
  {
   "cell_type": "markdown",
   "metadata": {},
   "source": [
    "## **while** Loop\n"
   ]
  },
  {
   "cell_type": "markdown",
   "metadata": {},
   "source": [
    "Perintah yang digunakan untuk melakukan pengulangan suatu blok kode program selama sebuah kondisi terpenuhi menggunakan _keyword_ `while` dengan format umum sebagai berikut.\n",
    "```python:\n",
    "while (kondisi):\n",
    "    statement 1\n",
    "    statement 2\n",
    "    ...\n",
    "```"
   ]
  },
  {
   "cell_type": "markdown",
   "metadata": {},
   "source": [
    "Mari membuat program yang dapat menampilkan suatu kondisi/syarat dengan menggunakan _keyword_ `while` pada baris kode di bawah ini."
   ]
  },
  {
   "cell_type": "code",
   "execution_count": null,
   "metadata": {},
   "outputs": [],
   "source": [
    "# Buat variabel\n",
    "n = int(input(\"Input nilai n: \")) #Input dengan angka bebas.\n",
    "i = ... #Lengkapi bagian kosong (...) dengan angka yang lebih kecil dari angka pada variabel n.\n",
    "\n",
    "# while loop\n",
    "while ...: #Lengkapi bagian kosong (...) dengan kondisi/syarat yang tepat.\n",
    "    print (\"Baris ke-%d : ...\"%i) #Lengkapi bagian kosong (...) dengan judul buku favorit.\n",
    "    i = i + 1"
   ]
  },
  {
   "cell_type": "markdown",
   "metadata": {},
   "source": [
    "Pada blok kode di atas, program diminta untuk menampilkan isi dari variabel `i` selama `i` kurang dari sama dengan variabel `n`. Baris kode `i=i+1` merupakan \n",
    "penambahan counter. Hal ini berguna untuk membatasi iterasi yang \n",
    "terjadi dimana program tidak terus menerus mendefinisikan `i` pada nilai yang sama."
   ]
  },
  {
   "cell_type": "markdown",
   "metadata": {},
   "source": [
    "## **Nested** Loop"
   ]
  },
  {
   "cell_type": "markdown",
   "metadata": {},
   "source": [
    "Jenis loop pada Python yang mengizinkan penggunaan loop di dalam loop."
   ]
  },
  {
   "cell_type": "markdown",
   "metadata": {},
   "source": [
    "Mari membuat program yang dapat menampilkan suatu kondisi/syarat Nested Loop dengan menggunakan _keyword_ `for` di dalam `for` pada baris kode di bawah ini."
   ]
  },
  {
   "cell_type": "code",
   "execution_count": null,
   "metadata": {},
   "outputs": [],
   "source": [
    "# Buat Variabel\n",
    "kata_sifat = [\"...\", \"...\", \"...\"] #Lengkapi bagian kosong (...) dengan kata sifat.\n",
    "mobil = [\"...\", \"...\", \"...\"] #Lengkapi bagian kosong (...) dengan merk mobil.\n",
    "\n",
    "# Nested Loop\n",
    "for x in kata_sifat:\n",
    "  for y in mobil:\n",
    "    print(y, x)"
   ]
  },
  {
   "cell_type": "markdown",
   "metadata": {},
   "source": [
    "Dari blok kode di atas, `x` akan mengambil setiap elemen dari list `kata_sifat`. Sedangkan `y`akan mengambil setiap elemen dari list `mobil`. Selanjutnya, `x` dan `y` dikombinasikan dengan menggunakan `print(y,x)`."
   ]
  },
  {
   "cell_type": "markdown",
   "metadata": {},
   "source": [
    "Bagaimana dengan _keyword_ `while`?<br>\n",
    "Mari membuat program yang dapat menampilkan suatu kondisi/syarat Nested Loop dengan menggunakan _keyword_ `while` di dalam `while` pada baris kode di bawah ini."
   ]
  },
  {
   "cell_type": "code",
   "execution_count": null,
   "metadata": {},
   "outputs": [],
   "source": [
    "# Buat Variabel\n",
    "n = int(input(\"Input nilai n: \")) #Input dengan angka bebas.\n",
    "i = ... #Lengkapi bagian kosong (...) dengan angka yang lebih kecil dari angka pada variabel n.\n",
    "\n",
    "# Nested Loop\n",
    "while ...: #Lengkapi bagian kosong (...) dengan kondisi/syarat yang tepat.\n",
    "    j = 1\n",
    "    while ...: #Lengkapi bagian kosong (...) dengan kondisi/syarat yang tepat.\n",
    "        print(\"%d \" % (i*j), end =\"\")\n",
    "        j = j + 1\n",
    "    print()\n",
    "    i += 1"
   ]
  },
  {
   "cell_type": "markdown",
   "metadata": {},
   "source": [
    "Dari blok kode di atas, kita memiliki sebuah `while` loop luar dan `while` loop dalam yang akan berjalan pada kondisi tertenu.\n",
    "- Di dalam `while` loop luar, kita mendefinisikan variabel `j` dengan nilai awal `1`.\n",
    "- Di dalam _nested loop_, kita mencetak hasil perkalian antara `i` dan `j ` menggunakan `print(\"%d \" % (i*j), end =\"\")`, di mana `%d` digunakan untuk memasukkan nilai integer ke dalam string format, dan `(i*j)` adalah hasil perkalian `i` dan `j`.\n",
    "- Setelah mencetak hasil perkalian, kita menambahkan nilai `j` dengan `1`, `(j = j + 1)`.\n",
    "- Setelah _nested loop_ selesai, kita mencetak baris baru menggunakan `print()` untuk membuat baris baru setiap kali iterasi loop luar.\n",
    "- Terakhir, kita menambahkan nilai `i` dengan `1`, `(i += 1)` sebelum iterasi berikutnya dari loop luar."
   ]
  },
  {
   "cell_type": "markdown",
   "metadata": {},
   "source": [
    "## Pernyataan Loncat"
   ]
  },
  {
   "cell_type": "markdown",
   "metadata": {},
   "source": [
    "Perintah yang digunakan memindahkan eksekusi program dari satu bagian tertentu kebagian lain. Jenis pernyataan loncat yang sering digunakan yaitu `break`, `continue`, dan `pass`."
   ]
  },
  {
   "cell_type": "markdown",
   "metadata": {},
   "source": [
    "### break"
   ]
  },
  {
   "cell_type": "markdown",
   "metadata": {},
   "source": [
    "Mari membuat program yang menggunakan `break` dengan menggunakan _keyword_ `for` pada baris kode di bawah ini."
   ]
  },
  {
   "cell_type": "code",
   "execution_count": null,
   "metadata": {},
   "outputs": [],
   "source": [
    "for i in range(...): #Lengkapi bagian kosong (...) dengan range angka yang diinginkan.\n",
    "    if ...: #Lengkapi bagian kosong (...) dengan syarat/kondisi yang tepat.\n",
    "        break\n",
    "    print(i)"
   ]
  },
  {
   "cell_type": "markdown",
   "metadata": {},
   "source": [
    "Pada blok kode di atas, setelah `break` dijalankan maka proses iterasi berhenti, meskipun kondisi iterasi sebenarnya masih memenuhi syarat iterasi.<br>\n",
    "<br> Mari kita coba kembali menjalankan program lain dengan menggunakan `break` pada baris kode di bawah ini."
   ]
  },
  {
   "cell_type": "code",
   "execution_count": null,
   "metadata": {},
   "outputs": [],
   "source": [
    "list_nama = [\"...\", \"...\", \"...\", \"...\", \"...\"]  #Lengkapi bagian kosong (...) dengan nama teman.\n",
    "for nama in list_nama:\n",
    "    print(...) #Lengkapi bagian kosong (...) dengan kondisi/syarat yang tepat.\n",
    "    if ... == \"...\": #Lengkapi bagian kosong (...) dengan kondisi/syarat yang tepat.\n",
    "        break"
   ]
  },
  {
   "cell_type": "markdown",
   "metadata": {},
   "source": [
    "Bagaimana dengan `pass` dan `continue`?<br>\n",
    "Mari membuat program yang menggunakan `pass` dan `continue` dengan menggunakan baris kode yang sama."
   ]
  },
  {
   "cell_type": "markdown",
   "metadata": {},
   "source": [
    "### continue"
   ]
  },
  {
   "cell_type": "markdown",
   "metadata": {},
   "source": [
    "Mari membuat program yang menggunakan `continue` dengan menggunakan _keyword_ `for` pada baris kode di bawah ini."
   ]
  },
  {
   "cell_type": "code",
   "execution_count": null,
   "metadata": {},
   "outputs": [],
   "source": [
    "for i in range(...): #Lengkapi bagian kosong (...) dengan range angka yang diinginkan.\n",
    "    if ...: #Lengkapi bagian kosong (...) dengan syarat/kondisi yang tepat.\n",
    "        continue\n",
    "    print(i)\n",
    "\n",
    "# Hint\n",
    "# Menggunakan modulus (%)"
   ]
  },
  {
   "cell_type": "markdown",
   "metadata": {},
   "source": [
    "Pada blok kode di atas, pernyataan `continue` membuat program melompati iterasi saat ini dan melanjutkan ke iterasi berikutnya, maka output yang dihasilkan hanya bilangan ganjil.<br>\n",
    "<br>Mari kita coba kembali menjalankan program lain dengan menggunakan `continue` pada baris kode di bawah ini."
   ]
  },
  {
   "cell_type": "code",
   "execution_count": null,
   "metadata": {},
   "outputs": [],
   "source": [
    "list_nama = [\"...\", \"...\", \"...\", \"...\", \"...\"]  #Lengkapi bagian kosong (...) dengan nama teman.\n",
    "for nama in list_nama:\n",
    "    if ... == \"...\":  #Lengkapi bagian kosong (...) dengan kondisi/syarat yang tepat.\n",
    "        continue\n",
    "    print(...) #Lengkapi bagian kosong (...) dengan kondisi/syarat yang tepat."
   ]
  },
  {
   "cell_type": "markdown",
   "metadata": {},
   "source": [
    "### pass"
   ]
  },
  {
   "cell_type": "markdown",
   "metadata": {},
   "source": [
    "Mari membuat program yang menggunakan `pass` dengan menggunakan _keyword_ `for` pada baris kode di bawah ini."
   ]
  },
  {
   "cell_type": "code",
   "execution_count": null,
   "metadata": {},
   "outputs": [],
   "source": [
    "for i in range(...): #Lengkapi bagian kosong (...) dengan range angka yang diinginkan.\n",
    "    if ...: #Lengkapi bagian kosong (...) dengan syarat/kondisi yang tepat.\n",
    "        pass\n",
    "    else:\n",
    "        print(i)"
   ]
  },
  {
   "cell_type": "markdown",
   "metadata": {},
   "source": [
    "Pada blok kode di atas, menunjukkan bahwa `pass` ialah pernyataan kosong dalam Python. Program melanjutkan eksekusi ke bagian berikutnya dari perulangan tanpa melakukan apa pun.<br>\n",
    "<br>Mari kita coba kembali menjalankan program lain dengan menggunakan `pass` pada baris kode di bawah ini."
   ]
  },
  {
   "cell_type": "code",
   "execution_count": null,
   "metadata": {},
   "outputs": [],
   "source": [
    "list_nama = [\"...\", \"...\", \"...\", \"...\", \"...\"]  #Lengkapi bagian kosong (...) dengan nama teman.\n",
    "for nama in list_nama:\n",
    "    if ... == \"...\":  #Lengkapi bagian kosong (...) dengan kondisi/syarat yang tepat.\n",
    "        pass\n",
    "    else:\n",
    "        print(...) #Lengkapi bagian kosong (...) dengan kondisi/syarat yang tepat."
   ]
  },
  {
   "cell_type": "markdown",
   "metadata": {},
   "source": [
    "***\n",
    "<h1 align=\"center\">Well Done!!!</h1> \n",
    "\n",
    "***"
   ]
  }
 ],
 "metadata": {
  "kernelspec": {
   "display_name": "Python 3",
   "language": "python",
   "name": "python3"
  },
  "language_info": {
   "codemirror_mode": {
    "name": "ipython",
    "version": 3
   },
   "file_extension": ".py",
   "mimetype": "text/x-python",
   "name": "python",
   "nbconvert_exporter": "python",
   "pygments_lexer": "ipython3",
   "version": "3.9.12"
  }
 },
 "nbformat": 4,
 "nbformat_minor": 2
}
